{
 "cells": [
  {
   "cell_type": "code",
   "execution_count": 60,
   "metadata": {},
   "outputs": [],
   "source": [
    "from numpy.random import seed\n",
    "from numpy.random import randn\n",
    "import numpy as np\n",
    "from scipy.stats import ttest_ind, ttest_rel\n",
    "# from scipy.stats import \n",
    "# from mlxtend import \n",
    "# seed the random number generator\n",
    "seed(42)"
   ]
  },
  {
   "cell_type": "code",
   "execution_count": 61,
   "metadata": {},
   "outputs": [],
   "source": [
    "roberta = np.array([0.8333, 0.8417, 0.8167, 0.7833, 0.8250])\n",
    "bloomnet = np.array([0.8929, 0.8571, 0.8571, 0.8661, 0.9018])"
   ]
  },
  {
   "cell_type": "code",
   "execution_count": 62,
   "metadata": {},
   "outputs": [
    {
     "name": "stdout",
     "output_type": "stream",
     "text": [
      "Statistics=3.996, p=0.004\n"
     ]
    }
   ],
   "source": [
    "# compare samples\n",
    "stat, p = ttest_ind(bloomnet, roberta)\n",
    "print('Statistics=%.3f, p=%.3f' % (stat, p))"
   ]
  },
  {
   "cell_type": "code",
   "execution_count": 50,
   "metadata": {},
   "outputs": [],
   "source": [
    "data1 = 5 * randn(100) + 50\n",
    "data2 = 5 * randn(100) + 51"
   ]
  },
  {
   "cell_type": "code",
   "execution_count": 39,
   "metadata": {},
   "outputs": [],
   "source": [
    "# # data1\n",
    "# data2"
   ]
  },
  {
   "cell_type": "code",
   "execution_count": 15,
   "metadata": {},
   "outputs": [
    {
     "data": {
      "text/plain": [
       "0.875"
      ]
     },
     "execution_count": 15,
     "metadata": {},
     "output_type": "execute_result"
    }
   ],
   "source": [
    "np.mean(bloomnet)"
   ]
  },
  {
   "cell_type": "code",
   "execution_count": 16,
   "metadata": {},
   "outputs": [
    {
     "data": {
      "text/plain": [
       "0.018754626095979658"
      ]
     },
     "execution_count": 16,
     "metadata": {},
     "output_type": "execute_result"
    }
   ],
   "source": [
    "np.std(bloomnet)"
   ]
  },
  {
   "cell_type": "code",
   "execution_count": 56,
   "metadata": {},
   "outputs": [],
   "source": [
    "acc_iid = np.array([0.8929, 0.8571, 0.8571, 0.8661, 0.9018])\n",
    "f1_iid = np.array([0.8955, 0.8554, 0.8375, 0.8693, 0.9039])"
   ]
  },
  {
   "cell_type": "code",
   "execution_count": 57,
   "metadata": {},
   "outputs": [
    {
     "name": "stdout",
     "output_type": "stream",
     "text": [
      "mean_acc = 0.875 | std_acc = 0.018754626095979655\n"
     ]
    }
   ],
   "source": [
    "print(f'mean_acc = {np.mean(acc_iid)} | std_acc = {np.std(acc_iid)}')"
   ]
  },
  {
   "cell_type": "code",
   "execution_count": 58,
   "metadata": {},
   "outputs": [
    {
     "name": "stdout",
     "output_type": "stream",
     "text": [
      "mean_f1 = 0.87232 | std_f1 = 0.02466758196500013\n"
     ]
    }
   ],
   "source": [
    "print(f'mean_f1 = {np.mean(f1_iid)} | std_f1 = {np.std(f1_iid)}')"
   ]
  },
  {
   "cell_type": "code",
   "execution_count": 59,
   "metadata": {},
   "outputs": [],
   "source": [
    "acc_ood = np.array([0.6641, 0.7422, 0.7092, 0.6953, 0.7092])\n",
    "f1_ood = np.array([0.6313, 0.6984, 0.6915, 0.6757, 0.6577])"
   ]
  },
  {
   "cell_type": "code",
   "execution_count": 52,
   "metadata": {},
   "outputs": [
    {
     "name": "stdout",
     "output_type": "stream",
     "text": [
      "mean_acc = 0.704 | std_acc = 0.025223084664647965\n"
     ]
    }
   ],
   "source": [
    "print(f'mean_acc = {np.mean(acc_ood)} | std_acc = {np.std(acc_ood)}')"
   ]
  },
  {
   "cell_type": "code",
   "execution_count": 53,
   "metadata": {},
   "outputs": [
    {
     "name": "stdout",
     "output_type": "stream",
     "text": [
      "mean_f1 = 0.67092 | std_f1 = 0.024273640023696506\n"
     ]
    }
   ],
   "source": [
    "print(f'mean_f1 = {np.mean(f1_ood)} | std_f1 = {np.std(f1_ood)}')"
   ]
  },
  {
   "cell_type": "code",
   "execution_count": null,
   "metadata": {},
   "outputs": [],
   "source": []
  }
 ],
 "metadata": {
  "interpreter": {
   "hash": "b98eaffda2f8dccdd434b8a538c0dff68c3263c07983948f9c516c57469e3c42"
  },
  "kernelspec": {
   "display_name": "Python 3.8.5 64-bit ('base': conda)",
   "name": "python3"
  },
  "language_info": {
   "codemirror_mode": {
    "name": "ipython",
    "version": 3
   },
   "file_extension": ".py",
   "mimetype": "text/x-python",
   "name": "python",
   "nbconvert_exporter": "python",
   "pygments_lexer": "ipython3",
   "version": "3.8.5"
  },
  "orig_nbformat": 4
 },
 "nbformat": 4,
 "nbformat_minor": 2
}