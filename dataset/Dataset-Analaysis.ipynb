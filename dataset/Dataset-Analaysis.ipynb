{
 "metadata": {
  "language_info": {
   "codemirror_mode": {
    "name": "ipython",
    "version": 3
   },
   "file_extension": ".py",
   "mimetype": "text/x-python",
   "name": "python",
   "nbconvert_exporter": "python",
   "pygments_lexer": "ipython3",
   "version": "3.8.5"
  },
  "orig_nbformat": 2,
  "kernelspec": {
   "name": "python385jvsc74a57bd0b98eaffda2f8dccdd434b8a538c0dff68c3263c07983948f9c516c57469e3c42",
   "display_name": "Python 3.8.5 64-bit ('base': conda)"
  }
 },
 "nbformat": 4,
 "nbformat_minor": 2,
 "cells": [
  {
   "cell_type": "code",
   "execution_count": 42,
   "metadata": {},
   "outputs": [],
   "source": [
    "import pandas as pd\n",
    "import numpy as np\n",
    "from tqdm import tqdm\n",
    "from docx import Document\n",
    "from sklearn.preprocessing import LabelEncoder\n",
    "import json\n",
    "import os\n",
    "import gc\n"
   ]
  },
  {
   "cell_type": "code",
   "execution_count": 39,
   "metadata": {},
   "outputs": [],
   "source": [
    "df = pd.read_csv(\"/home/macab/research/BloomNet/data/BloomTaxonomy.csv\")"
   ]
  },
  {
   "cell_type": "code",
   "execution_count": 56,
   "metadata": {},
   "outputs": [
    {
     "output_type": "execute_result",
     "data": {
      "text/plain": [
       "Comprehension    100\n",
       "Knowledge        100\n",
       "Application      100\n",
       "Analysis         100\n",
       "Synthesis        100\n",
       "Evaluation       100\n",
       "Name: Label, dtype: int64"
      ]
     },
     "metadata": {},
     "execution_count": 56
    }
   ],
   "source": [
    "df['Label'].value_counts()"
   ]
  },
  {
   "cell_type": "code",
   "execution_count": 57,
   "metadata": {},
   "outputs": [
    {
     "output_type": "execute_result",
     "data": {
      "text/plain": [
       "                                                Text      Label\n",
       "0  About what proportion of the population of the...  Knowledge\n",
       "1  Correctly label the brain lobes indicated on t...  Knowledge\n",
       "2                          Define compound interest.  Knowledge\n",
       "3                 Define four types of traceability.  Knowledge\n",
       "4                               Define mercantilism.  Knowledge"
      ],
      "text/html": "<div>\n<style scoped>\n    .dataframe tbody tr th:only-of-type {\n        vertical-align: middle;\n    }\n\n    .dataframe tbody tr th {\n        vertical-align: top;\n    }\n\n    .dataframe thead th {\n        text-align: right;\n    }\n</style>\n<table border=\"1\" class=\"dataframe\">\n  <thead>\n    <tr style=\"text-align: right;\">\n      <th></th>\n      <th>Text</th>\n      <th>Label</th>\n    </tr>\n  </thead>\n  <tbody>\n    <tr>\n      <th>0</th>\n      <td>About what proportion of the population of the...</td>\n      <td>Knowledge</td>\n    </tr>\n    <tr>\n      <th>1</th>\n      <td>Correctly label the brain lobes indicated on t...</td>\n      <td>Knowledge</td>\n    </tr>\n    <tr>\n      <th>2</th>\n      <td>Define compound interest.</td>\n      <td>Knowledge</td>\n    </tr>\n    <tr>\n      <th>3</th>\n      <td>Define four types of traceability.</td>\n      <td>Knowledge</td>\n    </tr>\n    <tr>\n      <th>4</th>\n      <td>Define mercantilism.</td>\n      <td>Knowledge</td>\n    </tr>\n  </tbody>\n</table>\n</div>"
     },
     "metadata": {},
     "execution_count": 57
    }
   ],
   "source": [
    "df.head()"
   ]
  },
  {
   "cell_type": "code",
   "execution_count": 58,
   "metadata": {},
   "outputs": [],
   "source": [
    "## create a label2target and target2label dictionary\n",
    "encoder = LabelEncoder().fit(df['Label'])"
   ]
  },
  {
   "cell_type": "code",
   "execution_count": 59,
   "metadata": {},
   "outputs": [
    {
     "output_type": "execute_result",
     "data": {
      "text/plain": [
       "array(['Analysis', 'Application', 'Comprehension', 'Evaluation',\n",
       "       'Knowledge', 'Synthesis'], dtype=object)"
      ]
     },
     "metadata": {},
     "execution_count": 59
    }
   ],
   "source": [
    "encoder.classes_"
   ]
  },
  {
   "cell_type": "code",
   "execution_count": 60,
   "metadata": {},
   "outputs": [],
   "source": [
    "label2idx  = dict(zip(encoder.classes_, list(range(0, 6, 1))))"
   ]
  },
  {
   "cell_type": "code",
   "execution_count": 65,
   "metadata": {},
   "outputs": [],
   "source": [
    "idx2label = dict(zip(list(range(0, 6, 1)), encoder.classes_))"
   ]
  },
  {
   "cell_type": "code",
   "execution_count": 66,
   "metadata": {},
   "outputs": [
    {
     "output_type": "stream",
     "name": "stdout",
     "text": [
      "{'Analysis': 0, 'Application': 1, 'Comprehension': 2, 'Evaluation': 3, 'Knowledge': 4, 'Synthesis': 5}\n"
     ]
    }
   ],
   "source": [
    "print(label2idx)"
   ]
  },
  {
   "cell_type": "code",
   "execution_count": 67,
   "metadata": {},
   "outputs": [
    {
     "output_type": "stream",
     "name": "stdout",
     "text": [
      "{0: 'Analysis', 1: 'Application', 2: 'Comprehension', 3: 'Evaluation', 4: 'Knowledge', 5: 'Synthesis'}\n"
     ]
    }
   ],
   "source": [
    "print(idx2label)"
   ]
  },
  {
   "cell_type": "code",
   "execution_count": 68,
   "metadata": {},
   "outputs": [],
   "source": [
    "with open(\"./label-dictionaries/label2idx.json\", \"w\") as file:\n",
    "    json.dump(label2idx, file)\n",
    "with open(\"./label-dictionaries/idx2label.json\", \"w\") as file:\n",
    "    json.dump(idx2label, file)"
   ]
  },
  {
   "cell_type": "code",
   "execution_count": null,
   "metadata": {},
   "outputs": [],
   "source": []
  }
 ]
}